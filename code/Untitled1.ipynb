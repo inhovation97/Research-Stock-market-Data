{
 "cells": [
  {
   "cell_type": "code",
   "execution_count": 1,
   "id": "7bf255f9",
   "metadata": {},
   "outputs": [],
   "source": [
    "import pandas as pd\n",
    "import pandas_datareader.data as web\n",
    "import datetime\n",
    "import matplotlib.pyplot as plt\n",
    "import mplfinance as mpf\n",
    "from sklearn.preprocessing import MinMaxScaler\n",
    "import numpy as np"
   ]
  },
  {
   "cell_type": "code",
   "execution_count": 2,
   "id": "300703bd",
   "metadata": {},
   "outputs": [],
   "source": [
    "data_df=web.DataReader('036570.KS', 'yahoo', '2020-05-29', '2020-11-04')\n",
    "data_df_10_df = data_df[-10:]\n",
    "data_df_10_lst = data_df[-10:].values.tolist()\n",
    "close_lst = data_df[-11:-1]['Close']\n",
    "\n",
    "result2 = []\n",
    "for i,(row, close_value) in enumerate(zip(data_df_10_lst, close_lst)):\n",
    "    result = []\n",
    "    for price in row[:4]:\n",
    "        result += [(price/close_value)-1]\n",
    "    result2.append( result )"
   ]
  },
  {
   "cell_type": "code",
   "execution_count": 115,
   "id": "b112b7f2",
   "metadata": {},
   "outputs": [],
   "source": [
    "scaled_data_df = pd.DataFrame(result2, columns=['High','Low','Open','Close'])"
   ]
  },
  {
   "cell_type": "code",
   "execution_count": 6,
   "id": "4e2d82a1",
   "metadata": {},
   "outputs": [
    {
     "data": {
      "text/html": [
       "<div>\n",
       "<style scoped>\n",
       "    .dataframe tbody tr th:only-of-type {\n",
       "        vertical-align: middle;\n",
       "    }\n",
       "\n",
       "    .dataframe tbody tr th {\n",
       "        vertical-align: top;\n",
       "    }\n",
       "\n",
       "    .dataframe thead th {\n",
       "        text-align: right;\n",
       "    }\n",
       "</style>\n",
       "<table border=\"1\" class=\"dataframe\">\n",
       "  <thead>\n",
       "    <tr style=\"text-align: right;\">\n",
       "      <th></th>\n",
       "      <th>High</th>\n",
       "      <th>Low</th>\n",
       "      <th>Open</th>\n",
       "      <th>Close</th>\n",
       "      <th>Volume</th>\n",
       "      <th>Adj Close</th>\n",
       "    </tr>\n",
       "    <tr>\n",
       "      <th>Date</th>\n",
       "      <th></th>\n",
       "      <th></th>\n",
       "      <th></th>\n",
       "      <th></th>\n",
       "      <th></th>\n",
       "      <th></th>\n",
       "    </tr>\n",
       "  </thead>\n",
       "  <tbody>\n",
       "    <tr>\n",
       "      <th>2020-05-29</th>\n",
       "      <td>81300.0</td>\n",
       "      <td>79000.0</td>\n",
       "      <td>80400.0</td>\n",
       "      <td>79000.0</td>\n",
       "      <td>10625.3</td>\n",
       "      <td>77548.84375</td>\n",
       "    </tr>\n",
       "    <tr>\n",
       "      <th>2020-06-01</th>\n",
       "      <td>82000.0</td>\n",
       "      <td>78400.0</td>\n",
       "      <td>78600.0</td>\n",
       "      <td>81600.0</td>\n",
       "      <td>8477.6</td>\n",
       "      <td>80101.08125</td>\n",
       "    </tr>\n",
       "    <tr>\n",
       "      <th>2020-06-02</th>\n",
       "      <td>82300.0</td>\n",
       "      <td>80800.0</td>\n",
       "      <td>81300.0</td>\n",
       "      <td>81000.0</td>\n",
       "      <td>6752.5</td>\n",
       "      <td>79512.10000</td>\n",
       "    </tr>\n",
       "    <tr>\n",
       "      <th>2020-06-03</th>\n",
       "      <td>81900.0</td>\n",
       "      <td>79000.0</td>\n",
       "      <td>80700.0</td>\n",
       "      <td>79200.0</td>\n",
       "      <td>12056.0</td>\n",
       "      <td>77745.16875</td>\n",
       "    </tr>\n",
       "    <tr>\n",
       "      <th>2020-06-04</th>\n",
       "      <td>80100.0</td>\n",
       "      <td>78000.0</td>\n",
       "      <td>78300.0</td>\n",
       "      <td>80000.0</td>\n",
       "      <td>10449.1</td>\n",
       "      <td>78530.47500</td>\n",
       "    </tr>\n",
       "    <tr>\n",
       "      <th>...</th>\n",
       "      <td>...</td>\n",
       "      <td>...</td>\n",
       "      <td>...</td>\n",
       "      <td>...</td>\n",
       "      <td>...</td>\n",
       "      <td>...</td>\n",
       "    </tr>\n",
       "    <tr>\n",
       "      <th>2020-10-29</th>\n",
       "      <td>81500.0</td>\n",
       "      <td>79300.0</td>\n",
       "      <td>79500.0</td>\n",
       "      <td>81300.0</td>\n",
       "      <td>8802.9</td>\n",
       "      <td>79806.59375</td>\n",
       "    </tr>\n",
       "    <tr>\n",
       "      <th>2020-10-30</th>\n",
       "      <td>81300.0</td>\n",
       "      <td>77400.0</td>\n",
       "      <td>81100.0</td>\n",
       "      <td>77600.0</td>\n",
       "      <td>9228.5</td>\n",
       "      <td>76174.56250</td>\n",
       "    </tr>\n",
       "    <tr>\n",
       "      <th>2020-11-02</th>\n",
       "      <td>79500.0</td>\n",
       "      <td>77700.0</td>\n",
       "      <td>78200.0</td>\n",
       "      <td>77800.0</td>\n",
       "      <td>4869.6</td>\n",
       "      <td>76370.88125</td>\n",
       "    </tr>\n",
       "    <tr>\n",
       "      <th>2020-11-03</th>\n",
       "      <td>79200.0</td>\n",
       "      <td>77800.0</td>\n",
       "      <td>77800.0</td>\n",
       "      <td>78200.0</td>\n",
       "      <td>4835.0</td>\n",
       "      <td>76763.53750</td>\n",
       "    </tr>\n",
       "    <tr>\n",
       "      <th>2020-11-04</th>\n",
       "      <td>83800.0</td>\n",
       "      <td>78700.0</td>\n",
       "      <td>79100.0</td>\n",
       "      <td>83700.0</td>\n",
       "      <td>19710.8</td>\n",
       "      <td>82162.50625</td>\n",
       "    </tr>\n",
       "  </tbody>\n",
       "</table>\n",
       "<p>109 rows × 6 columns</p>\n",
       "</div>"
      ],
      "text/plain": [
       "               High      Low     Open    Close   Volume    Adj Close\n",
       "Date                                                                \n",
       "2020-05-29  81300.0  79000.0  80400.0  79000.0  10625.3  77548.84375\n",
       "2020-06-01  82000.0  78400.0  78600.0  81600.0   8477.6  80101.08125\n",
       "2020-06-02  82300.0  80800.0  81300.0  81000.0   6752.5  79512.10000\n",
       "2020-06-03  81900.0  79000.0  80700.0  79200.0  12056.0  77745.16875\n",
       "2020-06-04  80100.0  78000.0  78300.0  80000.0  10449.1  78530.47500\n",
       "...             ...      ...      ...      ...      ...          ...\n",
       "2020-10-29  81500.0  79300.0  79500.0  81300.0   8802.9  79806.59375\n",
       "2020-10-30  81300.0  77400.0  81100.0  77600.0   9228.5  76174.56250\n",
       "2020-11-02  79500.0  77700.0  78200.0  77800.0   4869.6  76370.88125\n",
       "2020-11-03  79200.0  77800.0  77800.0  78200.0   4835.0  76763.53750\n",
       "2020-11-04  83800.0  78700.0  79100.0  83700.0  19710.8  82162.50625\n",
       "\n",
       "[109 rows x 6 columns]"
      ]
     },
     "execution_count": 6,
     "metadata": {},
     "output_type": "execute_result"
    }
   ],
   "source": [
    "data_df/10"
   ]
  },
  {
   "cell_type": "code",
   "execution_count": 10,
   "id": "2257da05",
   "metadata": {},
   "outputs": [
    {
     "data": {
      "text/plain": [
       "Text(0, 0.5, 'Price')"
      ]
     },
     "execution_count": 10,
     "metadata": {},
     "output_type": "execute_result"
    },
    {
     "data": {
      "image/png": "[encoded data removed]",
      "text/plain": [
       "<Figure size 1080x576 with 1 Axes>"
      ]
     },
     "metadata": {
      "needs_background": "light"
     },
     "output_type": "display_data"
    }
   ],
   "source": [
    "\n",
    "colorset = mpf.make_marketcolors(up='tab:red', down='tab:blue', volume='tab:blue')\n",
    "s = mpf.make_mpf_style(marketcolors=colorset)\n",
    "fig, ax = plt.subplots(1,1,figsize=(15,8))\n",
    "mpf.plot(data_df/10, type = 'candle',style=s,ax=ax)\n",
    "_=plt.yticks(fontsize=18)\n",
    "ax.set_ylabel('Price', fontsize=20)"
   ]
  },
  {
   "cell_type": "code",
   "execution_count": 127,
   "id": "0b219745",
   "metadata": {},
   "outputs": [
    {
     "data": {
      "text/plain": [
       "Text(0, 0.5, 'Scaled Price')"
      ]
     },
     "execution_count": 127,
     "metadata": {},
     "output_type": "execute_result"
    },
    {
     "data": {
      "image/png": "[encoded data removed]",
      "text/plain": [
       "<Figure size 720x432 with 1 Axes>"
      ]
     },
     "metadata": {
      "needs_background": "light"
     },
     "output_type": "display_data"
    }
   ],
   "source": [
    "\n",
    "colorset = mpf.make_marketcolors(up='tab:red', down='tab:blue', volume='tab:blue')\n",
    "s = mpf.make_mpf_style(marketcolors=colorset)\n",
    "fig, ax = plt.subplots(1,1,figsize=(10,6))\n",
    "mpf.plot(scaled_data_df_10, type = 'candle',style=s,ax=ax)\n",
    "_=plt.yticks(fontsize=20)\n",
    "ax.set_ylabel('Scaled Price', fontsize=20)"
   ]
  },
  {
   "cell_type": "code",
   "execution_count": null,
   "id": "c7b7f78a",
   "metadata": {},
   "outputs": [],
   "source": []
  },
  {
   "cell_type": "code",
   "execution_count": null,
   "id": "5c2f9fe7",
   "metadata": {},
   "outputs": [],
   "source": []
  },
  {
   "cell_type": "code",
   "execution_count": null,
   "id": "73fbfc36",
   "metadata": {},
   "outputs": [],
   "source": []
  }
 ],
 "metadata": {
  "kernelspec": {
   "display_name": "Python 3 (ipykernel)",
   "language": "python",
   "name": "python3"
  },
  "language_info": {
   "codemirror_mode": {
    "name": "ipython",
    "version": 3
   },
   "file_extension": ".py",
   "mimetype": "text/x-python",
   "name": "python",
   "nbconvert_exporter": "python",
   "pygments_lexer": "ipython3",
   "version": "3.8.12"
  },
  "toc": {
   "base_numbering": 1,
   "nav_menu": {},
   "number_sections": true,
   "sideBar": true,
   "skip_h1_title": false,
   "title_cell": "Table of Contents",
   "title_sidebar": "Contents",
   "toc_cell": false,
   "toc_position": {},
   "toc_section_display": true,
   "toc_window_display": false
  }
 },
 "nbformat": 4,
 "nbformat_minor": 5
}
