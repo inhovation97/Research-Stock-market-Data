{
 "cells": [
  {
   "cell_type": "markdown",
   "id": "0de5aec8",
   "metadata": {},
   "source": [
    "# EDA_stock_data"
   ]
  },
  {
   "cell_type": "markdown",
   "id": "91cab403",
   "metadata": {},
   "source": [
    "> 18년도 이래로 계속 상장돼 있는 기업 중 중간의 데이터가 누락된 기업제거   \n",
    "> 거래량이 0인 거래중지 row는 제거   \n",
    "> 액면가가 바뀐다거나 상장폐지의 이슈때문에 생긴 이상치는 제거"
   ]
  },
  {
   "cell_type": "code",
   "execution_count": 1,
   "id": "16e9069e",
   "metadata": {},
   "outputs": [
    {
     "data": {
      "text/html": [
       "        <script type=\"text/javascript\">\n",
       "        window.PlotlyConfig = {MathJaxConfig: 'local'};\n",
       "        if (window.MathJax) {MathJax.Hub.Config({SVG: {font: \"STIX-Web\"}});}\n",
       "        if (typeof require !== 'undefined') {\n",
       "        require.undef(\"plotly\");\n",
       "        requirejs.config({\n",
       "            paths: {\n",
       "                'plotly': ['https://cdn.plot.ly/plotly-2.8.3.min']\n",
       "            }\n",
       "        });\n",
       "        require(['plotly'], function(Plotly) {\n",
       "            window._Plotly = Plotly;\n",
       "        });\n",
       "        }\n",
       "        </script>\n",
       "        "
      ]
     },
     "metadata": {},
     "output_type": "display_data"
    },
    {
     "name": "stdout",
     "output_type": "stream",
     "text": [
      "---15.999154329299927 seconds ---\n"
     ]
    }
   ],
   "source": [
    "import data_for_2nd_EDA\n",
    "import pandas as pd\n",
    "import ipywidgets as widgets\n",
    "from ipywidgets import interact, interact_manual\n",
    "import cufflinks as cf\n",
    "import numpy as np\n",
    "import seaborn as sns\n",
    "import matplotlib.pyplot as plt\n",
    "cf.go_offline(connected=True)\n",
    "\n",
    "new_stock_lst = data_for_2nd_EDA.make_stock_data_multi(processes = 20)"
   ]
  },
  {
   "cell_type": "code",
   "execution_count": 2,
   "id": "781363dd",
   "metadata": {
    "scrolled": false
   },
   "outputs": [
    {
     "data": {
      "text/html": [
       "<div>\n",
       "<style scoped>\n",
       "    .dataframe tbody tr th:only-of-type {\n",
       "        vertical-align: middle;\n",
       "    }\n",
       "\n",
       "    .dataframe tbody tr th {\n",
       "        vertical-align: top;\n",
       "    }\n",
       "\n",
       "    .dataframe thead th {\n",
       "        text-align: right;\n",
       "    }\n",
       "</style>\n",
       "<table border=\"1\" class=\"dataframe\">\n",
       "  <thead>\n",
       "    <tr style=\"text-align: right;\">\n",
       "      <th></th>\n",
       "      <th>Date</th>\n",
       "      <th>code</th>\n",
       "      <th>Open</th>\n",
       "      <th>High</th>\n",
       "      <th>Low</th>\n",
       "      <th>Close</th>\n",
       "      <th>Change</th>\n",
       "      <th>Volume</th>\n",
       "      <th>Scaled_volume</th>\n",
       "      <th>trading_value</th>\n",
       "      <th>ma_5</th>\n",
       "      <th>ma_20</th>\n",
       "      <th>ma_60</th>\n",
       "      <th>ma_120</th>\n",
       "      <th>shifting_Change</th>\n",
       "    </tr>\n",
       "  </thead>\n",
       "  <tbody>\n",
       "    <tr>\n",
       "      <th>0</th>\n",
       "      <td>2018-01-02</td>\n",
       "      <td>000210</td>\n",
       "      <td>73734</td>\n",
       "      <td>74367</td>\n",
       "      <td>73373</td>\n",
       "      <td>73916</td>\n",
       "      <td>-0.007279</td>\n",
       "      <td>108903</td>\n",
       "      <td>0.028414</td>\n",
       "      <td>8049674148</td>\n",
       "      <td>73572.4</td>\n",
       "      <td>74606.95</td>\n",
       "      <td>75361.433333</td>\n",
       "      <td>76873.466667</td>\n",
       "      <td>-0.002449</td>\n",
       "    </tr>\n",
       "    <tr>\n",
       "      <th>1</th>\n",
       "      <td>2018-01-03</td>\n",
       "      <td>000210</td>\n",
       "      <td>73644</td>\n",
       "      <td>74548</td>\n",
       "      <td>73644</td>\n",
       "      <td>73735</td>\n",
       "      <td>-0.002449</td>\n",
       "      <td>103242</td>\n",
       "      <td>0.026937</td>\n",
       "      <td>7612548870</td>\n",
       "      <td>73662.8</td>\n",
       "      <td>74552.75</td>\n",
       "      <td>75387.033333</td>\n",
       "      <td>76807.958333</td>\n",
       "      <td>0.037987</td>\n",
       "    </tr>\n",
       "    <tr>\n",
       "      <th>2</th>\n",
       "      <td>2018-01-04</td>\n",
       "      <td>000210</td>\n",
       "      <td>74367</td>\n",
       "      <td>76807</td>\n",
       "      <td>74096</td>\n",
       "      <td>76536</td>\n",
       "      <td>0.037987</td>\n",
       "      <td>262490</td>\n",
       "      <td>0.068486</td>\n",
       "      <td>20089934640</td>\n",
       "      <td>74259.2</td>\n",
       "      <td>74561.80</td>\n",
       "      <td>75456.300000</td>\n",
       "      <td>76774.825000</td>\n",
       "      <td>-0.005906</td>\n",
       "    </tr>\n",
       "    <tr>\n",
       "      <th>3</th>\n",
       "      <td>2018-01-05</td>\n",
       "      <td>000210</td>\n",
       "      <td>76987</td>\n",
       "      <td>77259</td>\n",
       "      <td>75451</td>\n",
       "      <td>76084</td>\n",
       "      <td>-0.005906</td>\n",
       "      <td>145511</td>\n",
       "      <td>0.037965</td>\n",
       "      <td>11071058924</td>\n",
       "      <td>74945.8</td>\n",
       "      <td>74466.90</td>\n",
       "      <td>75528.583333</td>\n",
       "      <td>76734.916667</td>\n",
       "      <td>0.009503</td>\n",
       "    </tr>\n",
       "    <tr>\n",
       "      <th>4</th>\n",
       "      <td>2018-01-08</td>\n",
       "      <td>000210</td>\n",
       "      <td>76174</td>\n",
       "      <td>77801</td>\n",
       "      <td>74909</td>\n",
       "      <td>76807</td>\n",
       "      <td>0.009503</td>\n",
       "      <td>158269</td>\n",
       "      <td>0.041294</td>\n",
       "      <td>12156167083</td>\n",
       "      <td>75415.6</td>\n",
       "      <td>74507.55</td>\n",
       "      <td>75612.916667</td>\n",
       "      <td>76704.041667</td>\n",
       "      <td>0.009413</td>\n",
       "    </tr>\n",
       "    <tr>\n",
       "      <th>...</th>\n",
       "      <td>...</td>\n",
       "      <td>...</td>\n",
       "      <td>...</td>\n",
       "      <td>...</td>\n",
       "      <td>...</td>\n",
       "      <td>...</td>\n",
       "      <td>...</td>\n",
       "      <td>...</td>\n",
       "      <td>...</td>\n",
       "      <td>...</td>\n",
       "      <td>...</td>\n",
       "      <td>...</td>\n",
       "      <td>...</td>\n",
       "      <td>...</td>\n",
       "      <td>...</td>\n",
       "    </tr>\n",
       "    <tr>\n",
       "      <th>1358903</th>\n",
       "      <td>2020-12-21</td>\n",
       "      <td>212310</td>\n",
       "      <td>5300</td>\n",
       "      <td>5300</td>\n",
       "      <td>4200</td>\n",
       "      <td>4770</td>\n",
       "      <td>0.029126</td>\n",
       "      <td>481</td>\n",
       "      <td>0.012719</td>\n",
       "      <td>2294370</td>\n",
       "      <td>4527.0</td>\n",
       "      <td>4553.25</td>\n",
       "      <td>4308.166667</td>\n",
       "      <td>4682.041667</td>\n",
       "      <td>-0.077568</td>\n",
       "    </tr>\n",
       "    <tr>\n",
       "      <th>1358904</th>\n",
       "      <td>2020-12-22</td>\n",
       "      <td>212310</td>\n",
       "      <td>4980</td>\n",
       "      <td>4980</td>\n",
       "      <td>4265</td>\n",
       "      <td>4400</td>\n",
       "      <td>-0.077568</td>\n",
       "      <td>6</td>\n",
       "      <td>0.000159</td>\n",
       "      <td>26400</td>\n",
       "      <td>4539.0</td>\n",
       "      <td>4548.75</td>\n",
       "      <td>4301.500000</td>\n",
       "      <td>4668.958333</td>\n",
       "      <td>0.031818</td>\n",
       "    </tr>\n",
       "    <tr>\n",
       "      <th>1358905</th>\n",
       "      <td>2020-12-23</td>\n",
       "      <td>212310</td>\n",
       "      <td>4990</td>\n",
       "      <td>4990</td>\n",
       "      <td>4100</td>\n",
       "      <td>4540</td>\n",
       "      <td>0.031818</td>\n",
       "      <td>272</td>\n",
       "      <td>0.007193</td>\n",
       "      <td>1234880</td>\n",
       "      <td>4587.0</td>\n",
       "      <td>4580.75</td>\n",
       "      <td>4302.166667</td>\n",
       "      <td>4663.458333</td>\n",
       "      <td>-0.005507</td>\n",
       "    </tr>\n",
       "    <tr>\n",
       "      <th>1358906</th>\n",
       "      <td>2020-12-24</td>\n",
       "      <td>212310</td>\n",
       "      <td>4595</td>\n",
       "      <td>4595</td>\n",
       "      <td>4005</td>\n",
       "      <td>4515</td>\n",
       "      <td>-0.005507</td>\n",
       "      <td>705</td>\n",
       "      <td>0.018643</td>\n",
       "      <td>3183075</td>\n",
       "      <td>4572.0</td>\n",
       "      <td>4584.00</td>\n",
       "      <td>4301.750000</td>\n",
       "      <td>4652.083333</td>\n",
       "      <td>0.027685</td>\n",
       "    </tr>\n",
       "    <tr>\n",
       "      <th>1358907</th>\n",
       "      <td>2020-12-28</td>\n",
       "      <td>212310</td>\n",
       "      <td>4985</td>\n",
       "      <td>4985</td>\n",
       "      <td>4065</td>\n",
       "      <td>4640</td>\n",
       "      <td>0.027685</td>\n",
       "      <td>10</td>\n",
       "      <td>0.000264</td>\n",
       "      <td>46400</td>\n",
       "      <td>4573.0</td>\n",
       "      <td>4573.00</td>\n",
       "      <td>4314.583333</td>\n",
       "      <td>4640.833333</td>\n",
       "      <td>-0.010776</td>\n",
       "    </tr>\n",
       "  </tbody>\n",
       "</table>\n",
       "<p>1358908 rows × 15 columns</p>\n",
       "</div>"
      ],
      "text/plain": [
       "              Date    code   Open   High    Low  Close    Change  Volume  \\\n",
       "0       2018-01-02  000210  73734  74367  73373  73916 -0.007279  108903   \n",
       "1       2018-01-03  000210  73644  74548  73644  73735 -0.002449  103242   \n",
       "2       2018-01-04  000210  74367  76807  74096  76536  0.037987  262490   \n",
       "3       2018-01-05  000210  76987  77259  75451  76084 -0.005906  145511   \n",
       "4       2018-01-08  000210  76174  77801  74909  76807  0.009503  158269   \n",
       "...            ...     ...    ...    ...    ...    ...       ...     ...   \n",
       "1358903 2020-12-21  212310   5300   5300   4200   4770  0.029126     481   \n",
       "1358904 2020-12-22  212310   4980   4980   4265   4400 -0.077568       6   \n",
       "1358905 2020-12-23  212310   4990   4990   4100   4540  0.031818     272   \n",
       "1358906 2020-12-24  212310   4595   4595   4005   4515 -0.005507     705   \n",
       "1358907 2020-12-28  212310   4985   4985   4065   4640  0.027685      10   \n",
       "\n",
       "         Scaled_volume  trading_value     ma_5     ma_20         ma_60  \\\n",
       "0             0.028414     8049674148  73572.4  74606.95  75361.433333   \n",
       "1             0.026937     7612548870  73662.8  74552.75  75387.033333   \n",
       "2             0.068486    20089934640  74259.2  74561.80  75456.300000   \n",
       "3             0.037965    11071058924  74945.8  74466.90  75528.583333   \n",
       "4             0.041294    12156167083  75415.6  74507.55  75612.916667   \n",
       "...                ...            ...      ...       ...           ...   \n",
       "1358903       0.012719        2294370   4527.0   4553.25   4308.166667   \n",
       "1358904       0.000159          26400   4539.0   4548.75   4301.500000   \n",
       "1358905       0.007193        1234880   4587.0   4580.75   4302.166667   \n",
       "1358906       0.018643        3183075   4572.0   4584.00   4301.750000   \n",
       "1358907       0.000264          46400   4573.0   4573.00   4314.583333   \n",
       "\n",
       "               ma_120  shifting_Change  \n",
       "0        76873.466667        -0.002449  \n",
       "1        76807.958333         0.037987  \n",
       "2        76774.825000        -0.005906  \n",
       "3        76734.916667         0.009503  \n",
       "4        76704.041667         0.009413  \n",
       "...               ...              ...  \n",
       "1358903   4682.041667        -0.077568  \n",
       "1358904   4668.958333         0.031818  \n",
       "1358905   4663.458333        -0.005507  \n",
       "1358906   4652.083333         0.027685  \n",
       "1358907   4640.833333        -0.010776  \n",
       "\n",
       "[1358908 rows x 15 columns]"
      ]
     },
     "execution_count": 2,
     "metadata": {},
     "output_type": "execute_result"
    }
   ],
   "source": [
    "new_stock_df = pd.DataFrame(new_stock_lst)\n",
    "\n",
    "new_stock_df.columns = ['Date', 'code', 'Open', 'High', 'Low', 'Close', 'Change', 'Volume', 'Scaled_volume', 'trading_value', 'ma_5', 'ma_20', 'ma_60', 'ma_120', 'shifting_Change']\n",
    "new_stock_df"
   ]
  },
  {
   "cell_type": "code",
   "execution_count": 3,
   "id": "7b3092f8",
   "metadata": {
    "scrolled": false
   },
   "outputs": [
    {
     "name": "stdout",
     "output_type": "stream",
     "text": [
      "총 1999개의 기업 중  101 개의 기업이 제거되어  1898 개의 기업의 데이터\n"
     ]
    }
   ],
   "source": [
    "print('총 1999개의 기업 중 ',1999 - len(new_stock_df['code'].unique()),'개의 기업이 제거되어 ',\n",
    "      len(new_stock_df['code'].unique()),'개의 기업의 데이터')"
   ]
  },
  {
   "cell_type": "markdown",
   "id": "4fb61dca",
   "metadata": {},
   "source": [
    "## change 변수 분석\n",
    "> trading value, ma값에 따른 상승/하락 추세에 대한 종가의 변화 분포를 확인"
   ]
  },
  {
   "cell_type": "code",
   "execution_count": null,
   "id": "0493b02e",
   "metadata": {
    "scrolled": false
   },
   "outputs": [],
   "source": [
    "@interact\n",
    "def show_data_more_than(column = 'shifting_Change', \n",
    "                        trading_value = [1000000000,10000000000,100000000000,1000000000000],\n",
    "                        ):\n",
    "    \n",
    "    conditioned_change = new_stock_df[new_stock_df['trading_value'] >= trading_value]['shifting_Change']\n",
    "    conditioned_change_mean = conditioned_change.mean()\n",
    "    plt.figure(figsize=(8,5))\n",
    "    fig=sns.distplot(conditioned_change, hist_kws = dict(edgecolor=\"black\", linewidth=2))\n",
    "    fig.set_title(\"trading_value {}\".format(trading_value))\n",
    "    fig.axvline(conditioned_change_mean, color='red')\n",
    "    print('redline은 평균 값')\n",
    "    plt.show()"
   ]
  },
  {
   "cell_type": "markdown",
   "id": "a0c23a92",
   "metadata": {},
   "source": [
    "## 상승장 & 하락장 비교"
   ]
  },
  {
   "cell_type": "code",
   "execution_count": 9,
   "id": "e61189be",
   "metadata": {
    "scrolled": false
   },
   "outputs": [
    {
     "data": {
      "application/vnd.jupyter.widget-view+json": {
       "model_id": "5d8e48aecc3d4e33af51e8784a236fa0",
       "version_major": 2,
       "version_minor": 0
      },
      "text/plain": [
       "interactive(children=(Dropdown(description='column', options=('ma_5', 'ma_20', 'ma_60', 'ma_120'), value='ma_5…"
      ]
     },
     "metadata": {},
     "output_type": "display_data"
    }
   ],
   "source": [
    "@interact\n",
    "def show_data_more_than(column = ['ma_5','ma_20','ma_60','ma_120'], \n",
    "                        ma_비교값 = ['ma_20','ma_60','ma_120'],\n",
    "                        trading_value = [0, 1000000000,10000000000,100000000000,1000000000000],\n",
    "                        ):\n",
    "    stock_bull = new_stock_df[new_stock_df[column] > new_stock_df[ma_비교값]]\n",
    "    stock_bull = stock_bull[stock_bull['trading_value'] >= trading_value]['shifting_Change'] # 상승장\n",
    "    \n",
    "    stock_bear = new_stock_df[new_stock_df[column] <= new_stock_df[ma_비교값]]\n",
    "    stock_bear = stock_bear[stock_bear['trading_value'] >= trading_value]['shifting_Change'] # 하락장\n",
    "    \n",
    "    stock_bull_mean=stock_bull.mean()\n",
    "    stock_bear_mean=stock_bear.mean()\n",
    "    \n",
    "    print ('raw data의 row개수:',new_stock_df.shape[0])\n",
    "    print('선택한 변수로 구성한 상승장의 row개수 : {}\\n'.format(stock_bull.shape[0]),\n",
    "          '선택한 변수로 구성한 하락장의 row개수 : {}'.format(stock_bear.shape[0]))\n",
    "    fig= plt.figure(figsize=(15,5))\n",
    "    ax = fig.subplots(1,2)\n",
    "    \n",
    "    sns.distplot(stock_bull, hist_kws=dict(edgecolor=\"black\", linewidth=2), ax = ax[0])\n",
    "    _=ax[0].set_title(\"bull market {} > {}\".format(column, ma_비교값))\n",
    "    _=ax[0].axvline(stock_bull_mean, color='red')\n",
    "    \n",
    "    sns.distplot(stock_bear, hist_kws=dict(edgecolor=\"black\", linewidth=2), ax = ax[1])\n",
    "    _=ax[1].set_title(\"bear market {} <= {}\".format(column, ma_비교값))\n",
    "    _=ax[1].axvline(stock_bear_mean, color='red')\n",
    "    \n",
    "    print('redline은 평균 값')\n",
    "    plt.show()"
   ]
  },
  {
   "cell_type": "markdown",
   "id": "e511346c",
   "metadata": {},
   "source": [
    "## Volume 변수 분석\n",
    "> 거래량의 변수는 종목에 따른 편차가 아래와 같이 크기때문에 데이터의 정제가 필수임.   \n",
    "> 따라서 거래량인 Volume 변수의 특징을 파악하기로함."
   ]
  },
  {
   "cell_type": "code",
   "execution_count": 6,
   "id": "acd8cfbe",
   "metadata": {},
   "outputs": [],
   "source": [
    "from sklearn.preprocessing import MinMaxScaler\n",
    "\n",
    "scaler_data = MinMaxScaler()\n",
    "scaler_data.fit(np.array(new_stock_df['Volume']).reshape(-1,1))# Nx1 shape으로 바꾸어 주어야 한다.\n",
    "scaled_Volume = scaler_data.transform(np.array(new_stock_df['Volume']).reshape(-1,1))# Nx1 shape으로 바꾸어 주어야 한다.\n",
    "\n",
    "new_stock_df['Volume']=scaled_Volume"
   ]
  },
  {
   "cell_type": "code",
   "execution_count": 7,
   "id": "3c1d7973",
   "metadata": {
    "scrolled": false
   },
   "outputs": [
    {
     "name": "stdout",
     "output_type": "stream",
     "text": [
      "count    1.358908e+06\n",
      "mean     9.300090e-04\n",
      "std      5.689670e-03\n",
      "min      0.000000e+00\n",
      "25%      3.750030e-05\n",
      "50%      1.357706e-04\n",
      "75%      4.632729e-04\n",
      "max      1.000000e+00\n",
      "Name: Volume, dtype: float64\n"
     ]
    },
    {
     "data": {
      "image/png": "[encoded data removed]",
      "text/plain": [
       "<Figure size 432x288 with 1 Axes>"
      ]
     },
     "metadata": {
      "needs_background": "light"
     },
     "output_type": "display_data"
    }
   ],
   "source": [
    "import seaborn as sns\n",
    "import warnings\n",
    "warnings.filterwarnings(action='ignore')\n",
    "sns.distplot(new_stock_df['Volume'])\n",
    "print(new_stock_df['Volume'].describe())"
   ]
  },
  {
   "cell_type": "markdown",
   "id": "6839c53c",
   "metadata": {},
   "source": [
    "volume - change lmplot"
   ]
  },
  {
   "cell_type": "code",
   "execution_count": 10,
   "id": "76ce45db",
   "metadata": {},
   "outputs": [
    {
     "data": {
      "text/plain": [
       "<seaborn.axisgrid.FacetGrid at 0x7fc2d04e21c0>"
      ]
     },
     "execution_count": 10,
     "metadata": {},
     "output_type": "execute_result"
    },
    {
     "data": {
      "image/png": "[encoded data removed]",
      "text/plain": [
       "<Figure size 360x360 with 1 Axes>"
      ]
     },
     "metadata": {
      "needs_background": "light"
     },
     "output_type": "display_data"
    }
   ],
   "source": [
    "sns.lmplot(x ='Volume', y = 'shifting_Change', data = new_stock_df)"
   ]
  },
  {
   "cell_type": "code",
   "execution_count": 11,
   "id": "4d6e39f4",
   "metadata": {},
   "outputs": [],
   "source": [
    "code_lst = new_stock_df['code'].unique() # 기업코드 리스트\n",
    "\n",
    "com_std_dict={}\n",
    "for code in code_lst:\n",
    "    com_std_dict[code] = new_stock_df[new_stock_df['code'] == code]['Volume'].std()"
   ]
  },
  {
   "cell_type": "markdown",
   "id": "e9d37c24",
   "metadata": {},
   "source": [
    "volume의 편차로 회사를 군집화하여 change의 특성을 확인"
   ]
  },
  {
   "cell_type": "code",
   "execution_count": 12,
   "id": "e0259a97",
   "metadata": {
    "scrolled": false
   },
   "outputs": [
    {
     "data": {
      "application/vnd.jupyter.widget-view+json": {
       "model_id": "37238f86f3c94dddb68585619f3f4a0d",
       "version_major": 2,
       "version_minor": 0
      },
      "text/plain": [
       "interactive(children=(Dropdown(description='column', options=('Volume',), value='Volume'), IntSlider(value=150…"
      ]
     },
     "metadata": {},
     "output_type": "display_data"
    }
   ],
   "source": [
    "@interact\n",
    "def show_data_more_than(column = ['Volume'], \n",
    "                        counts = (0,300,25)\n",
    "                        ):\n",
    "    high_std_top=[key for key, value in com_std_dict.items() if value in sorted(com_std_dict.values())[:counts]]\n",
    "    low_std_top=[key for key, value in com_std_dict.items() if value in sorted(com_std_dict.values(),reverse=True)[:counts]]\n",
    "    \n",
    "    high_std_df = new_stock_df[new_stock_df['code'].isin(high_std_top)]\n",
    "    low_std_df = new_stock_df[new_stock_df['code'].isin(low_std_top)]\n",
    "    \n",
    "    figure, ((ax1,ax2,ax3), (ax4,ax5,ax6)) = plt.subplots(nrows=2, ncols=3)\n",
    "    figure.set_size_inches(20,12)\n",
    "    figure.tight_layout()\n",
    "    \n",
    "    _=sns.distplot(high_std_df['shifting_Change'],ax = ax1, hist_kws=dict(edgecolor=\"black\", linewidth=2))\n",
    "    _=sns.distplot(high_std_df['Volume'],ax = ax2, hist_kws=dict(edgecolor=\"black\", linewidth=2))\n",
    "    _=sns.regplot(y=high_std_df['shifting_Change'],x = high_std_df['Volume'],ax = ax3)\n",
    "    \n",
    "    ax1.set_title('shifting_Change distribution',fontsize=16)\n",
    "    ax2.set_title('Volume distribution',fontsize=16)\n",
    "    ax3.set_title('shifting_Change - Volume regplot',fontsize=16)\n",
    "    ax1.set_ylabel('high std {}_company'.format(counts),rotation=0,\n",
    "                fontsize=16,\n",
    "                labelpad=100)\n",
    "    \n",
    "    \n",
    "    _=sns.distplot(low_std_df['shifting_Change'],ax = ax4,hist_kws=dict(edgecolor=\"black\", linewidth=2))\n",
    "    _=sns.distplot(low_std_df['Volume'],ax = ax5,hist_kws=dict(edgecolor=\"black\", linewidth=2))\n",
    "    _=sns.regplot(y=low_std_df['shifting_Change'],x = low_std_df['Volume'],ax = ax6)\n",
    "    ax4.set_ylabel('high std {}_company'.format(counts),rotation=0,\n",
    "                fontsize=16,\n",
    "                labelpad=100)\n",
    "    \n",
    "    high_corr = high_std_df[['Volume','shifting_Change']].corr().iloc[0,1]\n",
    "    low_corr = low_std_df[['Volume','shifting_Change']].corr().iloc[0,1]\n",
    "    \n",
    "    print('편차가 큰 기업들의 Volume - shifting_Change 상관계수:',high_corr)\n",
    "    print('편차가 작은 기업들의 Volume - shifting_Change 상관계수:',low_corr)\n",
    "    plt.show()"
   ]
  },
  {
   "cell_type": "markdown",
   "id": "8452d246",
   "metadata": {},
   "source": [
    "## 상한가 / 하한가 분석\n"
   ]
  },
  {
   "cell_type": "code",
   "execution_count": 13,
   "id": "2d968d17",
   "metadata": {
    "scrolled": false
   },
   "outputs": [
    {
     "data": {
      "application/vnd.jupyter.widget-view+json": {
       "model_id": "37efa0755903480fb45e9ea1ba74cb85",
       "version_major": 2,
       "version_minor": 0
      },
      "text/plain": [
       "interactive(children=(Dropdown(description='column', options=('ma_5', 'ma_20', 'ma_60', 'ma_120'), value='ma_5…"
      ]
     },
     "metadata": {},
     "output_type": "display_data"
    }
   ],
   "source": [
    "import matplotlib.pyplot as plt\n",
    "@interact\n",
    "def show_data_more_than(column = ['ma_5','ma_20','ma_60','ma_120'], \n",
    "                        ma_비교값 = ['ma_20','ma_60','ma_120'],\n",
    "                        trading_value = [0, 1000000000,10000000000,100000000000,1000000000000],\n",
    "                        ):\n",
    "    upper_line = new_stock_df[new_stock_df['shifting_Change'] > 0.29]\n",
    "    lower_line = new_stock_df[new_stock_df['shifting_Change'] < -0.29]\n",
    "    \n",
    "    conditioned_upper = upper_line[upper_line['trading_value'] > trading_value]\n",
    "    conditioned_lower = lower_line[lower_line['trading_value'] > trading_value]\n",
    "    \n",
    "    print('전체 상한가 개수 중 해당 거래대금 조건의 상한가 ratio:',conditioned_upper.shape[0]/upper_line.shape[0])\n",
    "    print('\\n전체 하한가 개수 중 해당 거래대금 조건의 상한가 ratio:',conditioned_lower.shape[0]/lower_line.shape[0])\n",
    "    \n",
    "    # 시각화\n",
    "    fig = plt.figure(figsize=(14,5))\n",
    "    ax = fig.subplots(1,2)\n",
    "    \n",
    "    upper_Bull_sum = sum(conditioned_upper[column] > conditioned_upper[ma_비교값])\n",
    "    upper_Bear_sum = sum(conditioned_upper[column] < conditioned_upper[ma_비교값])\n",
    "    \n",
    "    lower_Bull_sum = sum(conditioned_lower[column] > conditioned_lower[ma_비교값])\n",
    "    lower_Bear_sum = sum(conditioned_lower[column] < conditioned_lower[ma_비교값])\n",
    "    \n",
    "    data = [[upper_Bull_sum, upper_Bear_sum], [lower_Bull_sum, lower_Bear_sum]]\n",
    "    i=0\n",
    "    for data,ax in zip(data,ax):\n",
    "                  \n",
    "        x=range(2)\n",
    "        ax.bar(x,\n",
    "                data,\n",
    "                color=['darkred','steelblue'],\n",
    "               edgecolor='dimgray',\n",
    "               linewidth=3)\n",
    "\n",
    "        ax.text(0, data[0]+(data[0]*0.015), '{}'.format(data[0]), ha='center',fontsize=16)\n",
    "        ax.text(1, data[1]+(data[1]*0.015), '{}'.format(data[1]), ha='center',fontsize=16)\n",
    "        ax.set_xticks(x)\n",
    "        ax.set_xticklabels(['Bull market','Bear market'])\n",
    "        if i==0:\n",
    "            ax.set_title('upper_line +30%',fontsize=16)\n",
    "        else:\n",
    "            ax.set_title('lower_line -30%',fontsize=16)\n",
    "        i+=1\n",
    "    plt.show()"
   ]
  },
  {
   "cell_type": "markdown",
   "id": "c5941624",
   "metadata": {},
   "source": [
    "> 상한가 하한가와 거래대금과의 관계는 1000억에서 가장 상승장 인사이트가 잘 맞음.    \n",
    "> ma5로 구분한 특히(ma5, ma20) 상승/하락장에서 하한가/상한가가 가장 잘 맞아떨어짐.   \n",
    "> ma20 이상으로 구분한 상승/하락장은 잘 맞아 떨어지지는 않음   \n",
    "> 이말은 즉, 너무 대형주가 아닌 중소형주들(평소에는 거래량이 그닥 많지 않은)의 상한가 포인트로 볼 수 있을 것 같음."
   ]
  }
 ],
 "metadata": {
  "kernelspec": {
   "display_name": "Python 3 (ipykernel)",
   "language": "python",
   "name": "python3"
  },
  "language_info": {
   "codemirror_mode": {
    "name": "ipython",
    "version": 3
   },
   "file_extension": ".py",
   "mimetype": "text/x-python",
   "name": "python",
   "nbconvert_exporter": "python",
   "pygments_lexer": "ipython3",
   "version": "3.8.12"
  },
  "toc": {
   "base_numbering": 1,
   "nav_menu": {},
   "number_sections": true,
   "sideBar": true,
   "skip_h1_title": false,
   "title_cell": "Table of Contents",
   "title_sidebar": "Contents",
   "toc_cell": false,
   "toc_position": {},
   "toc_section_display": true,
   "toc_window_display": false
  }
 },
 "nbformat": 4,
 "nbformat_minor": 5
}
